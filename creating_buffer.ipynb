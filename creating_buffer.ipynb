{
 "cells": [
  {
   "cell_type": "markdown",
   "metadata": {
    "deletable": false,
    "editable": false
   },
   "source": [
    "## Problem 2: Create buffers around shopping centers (7 points)\n",
    "\n",
    "Let’s continue with our case study and calculate a 1.5 km buffer around the geocoded points. "
   ]
  },
  {
   "cell_type": "markdown",
   "metadata": {
    "deletable": false,
    "editable": false
   },
   "source": [
    "### a) Load the shopping centre data set (1 point)\n",
    "\n",
    "First, load the shopping centre *point* data set you created in *problem 1* into a `GeoDataFrame` called `shopping_centres`."
   ]
  },
  {
   "cell_type": "code",
   "execution_count": 1,
   "metadata": {},
   "outputs": [],
   "source": [
    "import pathlib\n",
    "NOTEBOOK_PATH = pathlib.Path().resolve()\n",
    "DATA_DIRECTORY = NOTEBOOK_PATH / \"data\""
   ]
  },
  {
   "cell_type": "code",
   "execution_count": 3,
   "metadata": {},
   "outputs": [
    {
     "data": {
      "text/plain": [
       "[PosixPath('/Users/cheunghy/Documents/GitHub/Automating-GIS-Process-2023-Exercise-3/data/shopping_centres.gpkg'),\n",
       " PosixPath('/Users/cheunghy/Documents/GitHub/Automating-GIS-Process-2023-Exercise-3/data/shopping_centres.txt')]"
      ]
     },
     "execution_count": 3,
     "metadata": {},
     "output_type": "execute_result"
    }
   ],
   "source": [
    "from pathlib import Path\n",
    "p = Path(DATA_DIRECTORY).glob('**/*')\n",
    "[x for x in p if x.is_file()]"
   ]
  },
  {
   "cell_type": "code",
   "execution_count": 13,
   "metadata": {},
   "outputs": [
    {
     "data": {
      "text/html": [
       "<div>\n",
       "<style scoped>\n",
       "    .dataframe tbody tr th:only-of-type {\n",
       "        vertical-align: middle;\n",
       "    }\n",
       "\n",
       "    .dataframe tbody tr th {\n",
       "        vertical-align: top;\n",
       "    }\n",
       "\n",
       "    .dataframe thead th {\n",
       "        text-align: right;\n",
       "    }\n",
       "</style>\n",
       "<table border=\"1\" class=\"dataframe\">\n",
       "  <thead>\n",
       "    <tr style=\"text-align: right;\">\n",
       "      <th></th>\n",
       "      <th>address</th>\n",
       "      <th>id</th>\n",
       "      <th>name</th>\n",
       "      <th>addr</th>\n",
       "      <th>geometry</th>\n",
       "    </tr>\n",
       "  </thead>\n",
       "  <tbody>\n",
       "    <tr>\n",
       "      <th>0</th>\n",
       "      <td>CAP-Autokoulu, 1-7, Itäkatu, Itäkeskus, Vartio...</td>\n",
       "      <td>1</td>\n",
       "      <td>Itis</td>\n",
       "      <td>Itäkatu 1-7, 00930 Helsinki, Finland</td>\n",
       "      <td>POLYGON ((3023.273 133.812, 3023.273 -13.391, ...</td>\n",
       "    </tr>\n",
       "    <tr>\n",
       "      <th>1</th>\n",
       "      <td>Mannerheimintie, Keskusta, Kluuvi, Eteläinen s...</td>\n",
       "      <td>2</td>\n",
       "      <td>Forum</td>\n",
       "      <td>Mannerheimintie 1420, 00100 Helsinki, Finland</td>\n",
       "      <td>POLYGON ((3023.131 133.772, 3023.131 -13.431, ...</td>\n",
       "    </tr>\n",
       "    <tr>\n",
       "      <th>2</th>\n",
       "      <td>Pentik, 11, Piispansilta, Matinkylä, Suur-Mati...</td>\n",
       "      <td>3</td>\n",
       "      <td>Iso-omena</td>\n",
       "      <td>Piispansilta 11, 02230 Espoo, Finland</td>\n",
       "      <td>POLYGON ((3022.932 133.763, 3022.932 -13.440, ...</td>\n",
       "    </tr>\n",
       "    <tr>\n",
       "      <th>3</th>\n",
       "      <td>Dr. Denim, 3-9, Leppävaarankatu, Ruusutorppa, ...</td>\n",
       "      <td>4</td>\n",
       "      <td>Sello</td>\n",
       "      <td>Leppävaarankatu 3-9, 02600 Espoo, Finland</td>\n",
       "      <td>POLYGON ((3023.006 133.820, 3023.006 -13.383, ...</td>\n",
       "    </tr>\n",
       "    <tr>\n",
       "      <th>4</th>\n",
       "      <td>Stockmann, 3, Vantaanportinkatu, Vantaanportti...</td>\n",
       "      <td>5</td>\n",
       "      <td>Jumbo</td>\n",
       "      <td>Vantaanportinkatu 3, 01510 Vantaa, Finland</td>\n",
       "      <td>POLYGON ((3023.156 133.894, 3023.156 -13.309, ...</td>\n",
       "    </tr>\n",
       "  </tbody>\n",
       "</table>\n",
       "</div>"
      ],
      "text/plain": [
       "                                             address  id       name  \\\n",
       "0  CAP-Autokoulu, 1-7, Itäkatu, Itäkeskus, Vartio...   1       Itis   \n",
       "1  Mannerheimintie, Keskusta, Kluuvi, Eteläinen s...   2      Forum   \n",
       "2  Pentik, 11, Piispansilta, Matinkylä, Suur-Mati...   3  Iso-omena   \n",
       "3  Dr. Denim, 3-9, Leppävaarankatu, Ruusutorppa, ...   4      Sello   \n",
       "4  Stockmann, 3, Vantaanportinkatu, Vantaanportti...   5      Jumbo   \n",
       "\n",
       "                                             addr  \\\n",
       "0            Itäkatu 1-7, 00930 Helsinki, Finland   \n",
       "1  Mannerheimintie 1420, 00100 Helsinki, Finland   \n",
       "2           Piispansilta 11, 02230 Espoo, Finland   \n",
       "3       Leppävaarankatu 3-9, 02600 Espoo, Finland   \n",
       "4      Vantaanportinkatu 3, 01510 Vantaa, Finland   \n",
       "\n",
       "                                            geometry  \n",
       "0  POLYGON ((3023.273 133.812, 3023.273 -13.391, ...  \n",
       "1  POLYGON ((3023.131 133.772, 3023.131 -13.431, ...  \n",
       "2  POLYGON ((3022.932 133.763, 3022.932 -13.440, ...  \n",
       "3  POLYGON ((3023.006 133.820, 3023.006 -13.383, ...  \n",
       "4  POLYGON ((3023.156 133.894, 3023.156 -13.309, ...  "
      ]
     },
     "execution_count": 13,
     "metadata": {},
     "output_type": "execute_result"
    }
   ],
   "source": [
    "# ADD YOUR OWN CODE HERE\n",
    "import geopandas\n",
    "shopping_centres = geopandas.read_file(DATA_DIRECTORY / \"shopping_centres.gpkg\")\n",
    "shopping_centres.head()"
   ]
  },
  {
   "cell_type": "markdown",
   "metadata": {
    "deletable": false,
    "editable": false
   },
   "source": [
    "\n",
    "---\n",
    "\n",
    "### b) Create a *buffer* around the points (5 points)\n",
    "\n",
    "Calculate a 1.5 km buffer for each geocoded point. Overwrite the `geometry` column with the new buffer geometry.\n",
    "\n",
    "Use the [`geopandas.GeoDataFrame.buffer()` method](http://geopandas.org/geometric_manipulations.html#GeoSeries.buffer), that uses shapely’s [`buffer()`](http://toblerity.org/shapely/manual.html#object.buffer) in the background. You only need to care about the `distance` parameter, don’t worry about the possible other arguments."
   ]
  },
  {
   "cell_type": "code",
   "execution_count": 14,
   "metadata": {},
   "outputs": [
    {
     "name": "stdout",
     "output_type": "stream",
     "text": [
      "EPSG:3879\n"
     ]
    }
   ],
   "source": [
    "print(shopping_centres.crs)"
   ]
  },
  {
   "cell_type": "code",
   "execution_count": 15,
   "metadata": {},
   "outputs": [],
   "source": [
    "# ADD YOUR OWN CODE HERE\n",
    "shopping_centres['geometry'] = shopping_centres['geometry'].buffer(1500)"
   ]
  },
  {
   "cell_type": "code",
   "execution_count": 16,
   "metadata": {},
   "outputs": [
    {
     "data": {
      "text/html": [
       "<div>\n",
       "<style scoped>\n",
       "    .dataframe tbody tr th:only-of-type {\n",
       "        vertical-align: middle;\n",
       "    }\n",
       "\n",
       "    .dataframe tbody tr th {\n",
       "        vertical-align: top;\n",
       "    }\n",
       "\n",
       "    .dataframe thead th {\n",
       "        text-align: right;\n",
       "    }\n",
       "</style>\n",
       "<table border=\"1\" class=\"dataframe\">\n",
       "  <thead>\n",
       "    <tr style=\"text-align: right;\">\n",
       "      <th></th>\n",
       "      <th>address</th>\n",
       "      <th>id</th>\n",
       "      <th>name</th>\n",
       "      <th>addr</th>\n",
       "      <th>geometry</th>\n",
       "    </tr>\n",
       "  </thead>\n",
       "  <tbody>\n",
       "    <tr>\n",
       "      <th>0</th>\n",
       "      <td>CAP-Autokoulu, 1-7, Itäkatu, Itäkeskus, Vartio...</td>\n",
       "      <td>1</td>\n",
       "      <td>Itis</td>\n",
       "      <td>Itäkatu 1-7, 00930 Helsinki, Finland</td>\n",
       "      <td>POLYGON ((4521.466 207.413, 4523.273 133.812, ...</td>\n",
       "    </tr>\n",
       "    <tr>\n",
       "      <th>1</th>\n",
       "      <td>Mannerheimintie, Keskusta, Kluuvi, Eteläinen s...</td>\n",
       "      <td>2</td>\n",
       "      <td>Forum</td>\n",
       "      <td>Mannerheimintie 1420, 00100 Helsinki, Finland</td>\n",
       "      <td>POLYGON ((4521.324 207.374, 4523.131 133.772, ...</td>\n",
       "    </tr>\n",
       "    <tr>\n",
       "      <th>2</th>\n",
       "      <td>Pentik, 11, Piispansilta, Matinkylä, Suur-Mati...</td>\n",
       "      <td>3</td>\n",
       "      <td>Iso-omena</td>\n",
       "      <td>Piispansilta 11, 02230 Espoo, Finland</td>\n",
       "      <td>POLYGON ((4521.125 207.365, 4522.932 133.763, ...</td>\n",
       "    </tr>\n",
       "    <tr>\n",
       "      <th>3</th>\n",
       "      <td>Dr. Denim, 3-9, Leppävaarankatu, Ruusutorppa, ...</td>\n",
       "      <td>4</td>\n",
       "      <td>Sello</td>\n",
       "      <td>Leppävaarankatu 3-9, 02600 Espoo, Finland</td>\n",
       "      <td>POLYGON ((4521.199 207.421, 4523.006 133.820, ...</td>\n",
       "    </tr>\n",
       "    <tr>\n",
       "      <th>4</th>\n",
       "      <td>Stockmann, 3, Vantaanportinkatu, Vantaanportti...</td>\n",
       "      <td>5</td>\n",
       "      <td>Jumbo</td>\n",
       "      <td>Vantaanportinkatu 3, 01510 Vantaa, Finland</td>\n",
       "      <td>POLYGON ((4521.349 207.495, 4523.156 133.894, ...</td>\n",
       "    </tr>\n",
       "    <tr>\n",
       "      <th>5</th>\n",
       "      <td>Redi, 5, Hermannin rantatie, Verkkosaari, Kala...</td>\n",
       "      <td>6</td>\n",
       "      <td>REDI</td>\n",
       "      <td>Hermannin rantatie 5, 00580 Helsinki, Finland</td>\n",
       "      <td>POLYGON ((4521.366 207.390, 4523.173 133.788, ...</td>\n",
       "    </tr>\n",
       "    <tr>\n",
       "      <th>6</th>\n",
       "      <td>Delhi Rasoi Tripla, 1, Fredikanterassi, Keski-...</td>\n",
       "      <td>7</td>\n",
       "      <td>Tripla</td>\n",
       "      <td>Fredikanterassi 1, 00520 Helsinki, Finland</td>\n",
       "      <td>POLYGON ((4521.318 207.402, 4523.124 133.800, ...</td>\n",
       "    </tr>\n",
       "  </tbody>\n",
       "</table>\n",
       "</div>"
      ],
      "text/plain": [
       "                                             address  id       name  \\\n",
       "0  CAP-Autokoulu, 1-7, Itäkatu, Itäkeskus, Vartio...   1       Itis   \n",
       "1  Mannerheimintie, Keskusta, Kluuvi, Eteläinen s...   2      Forum   \n",
       "2  Pentik, 11, Piispansilta, Matinkylä, Suur-Mati...   3  Iso-omena   \n",
       "3  Dr. Denim, 3-9, Leppävaarankatu, Ruusutorppa, ...   4      Sello   \n",
       "4  Stockmann, 3, Vantaanportinkatu, Vantaanportti...   5      Jumbo   \n",
       "5  Redi, 5, Hermannin rantatie, Verkkosaari, Kala...   6       REDI   \n",
       "6  Delhi Rasoi Tripla, 1, Fredikanterassi, Keski-...   7     Tripla   \n",
       "\n",
       "                                             addr  \\\n",
       "0            Itäkatu 1-7, 00930 Helsinki, Finland   \n",
       "1  Mannerheimintie 1420, 00100 Helsinki, Finland   \n",
       "2           Piispansilta 11, 02230 Espoo, Finland   \n",
       "3       Leppävaarankatu 3-9, 02600 Espoo, Finland   \n",
       "4      Vantaanportinkatu 3, 01510 Vantaa, Finland   \n",
       "5   Hermannin rantatie 5, 00580 Helsinki, Finland   \n",
       "6      Fredikanterassi 1, 00520 Helsinki, Finland   \n",
       "\n",
       "                                            geometry  \n",
       "0  POLYGON ((4521.466 207.413, 4523.273 133.812, ...  \n",
       "1  POLYGON ((4521.324 207.374, 4523.131 133.772, ...  \n",
       "2  POLYGON ((4521.125 207.365, 4522.932 133.763, ...  \n",
       "3  POLYGON ((4521.199 207.421, 4523.006 133.820, ...  \n",
       "4  POLYGON ((4521.349 207.495, 4523.156 133.894, ...  \n",
       "5  POLYGON ((4521.366 207.390, 4523.173 133.788, ...  \n",
       "6  POLYGON ((4521.318 207.402, 4523.124 133.800, ...  "
      ]
     },
     "execution_count": 16,
     "metadata": {},
     "output_type": "execute_result"
    }
   ],
   "source": [
    "shopping_centres"
   ]
  },
  {
   "cell_type": "code",
   "execution_count": 17,
   "metadata": {
    "deletable": false,
    "editable": false
   },
   "outputs": [],
   "source": [
    "# NON-EDITABLE CODE CELL FOR TESTING YOUR SOLUTION\n",
    "assert shopping_centres.geometry.geom_type.unique() == [\"Polygon\"]"
   ]
  },
  {
   "cell_type": "markdown",
   "metadata": {
    "deletable": false,
    "editable": false
   },
   "source": [
    "\n",
    "---\n",
    "\n",
    "### d) Save buffer geometry layer (1 point)\n",
    "\n",
    "Save the data frame containing the buffer geometries into a new layer `buffers` inside the same *GeoPackage* `shopping_centres.gpkg`:"
   ]
  },
  {
   "cell_type": "code",
   "execution_count": 18,
   "metadata": {},
   "outputs": [],
   "source": [
    "# ADD YOUR OWN CODE HERE\n",
    "shopping_centres.to_file(DATA_DIRECTORY / \"shopping_centres.gpkg\", layer=\"buffers\")"
   ]
  },
  {
   "cell_type": "code",
   "execution_count": null,
   "metadata": {},
   "outputs": [],
   "source": []
  }
 ],
 "metadata": {
  "anaconda-cloud": {},
  "kernelspec": {
   "display_name": "Python 3.10.9",
   "language": "python",
   "name": "python3"
  },
  "language_info": {
   "codemirror_mode": {
    "name": "ipython",
    "version": 3
   },
   "file_extension": ".py",
   "mimetype": "text/x-python",
   "name": "python",
   "nbconvert_exporter": "python",
   "pygments_lexer": "ipython3",
   "version": "3.10.9"
  },
  "vscode": {
   "interpreter": {
    "hash": "d6644e59e7e57ee419b0daecb2efaf1eeb0922c0a09f1b96bb5b6e4433cda643"
   }
  }
 },
 "nbformat": 4,
 "nbformat_minor": 4
}
